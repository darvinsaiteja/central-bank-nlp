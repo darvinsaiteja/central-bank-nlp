{
 "cells": [
  {
   "cell_type": "code",
   "execution_count": 3,
   "metadata": {},
   "outputs": [],
   "source": [
    "library(syuzhet)\n",
    "library(readr)\n",
    "library(stringr)"
   ]
  },
  {
   "cell_type": "code",
   "execution_count": 5,
   "metadata": {},
   "outputs": [
    {
     "data": {
      "text/html": [
       "<table>\n",
       "<thead><tr><th scope=col>anger</th><th scope=col>anticipation</th><th scope=col>disgust</th><th scope=col>fear</th><th scope=col>joy</th><th scope=col>sadness</th><th scope=col>surprise</th><th scope=col>trust</th><th scope=col>negative</th><th scope=col>positive</th></tr></thead>\n",
       "<tbody>\n",
       "\t<tr><td>2 </td><td>8 </td><td>0 </td><td>4 </td><td>4 </td><td>1 </td><td>1 </td><td>14</td><td>7 </td><td>15</td></tr>\n",
       "</tbody>\n",
       "</table>\n"
      ],
      "text/latex": [
       "\\begin{tabular}{r|llllllllll}\n",
       " anger & anticipation & disgust & fear & joy & sadness & surprise & trust & negative & positive\\\\\n",
       "\\hline\n",
       "\t 2  & 8  & 0  & 4  & 4  & 1  & 1  & 14 & 7  & 15\\\\\n",
       "\\end{tabular}\n"
      ],
      "text/markdown": [
       "\n",
       "anger | anticipation | disgust | fear | joy | sadness | surprise | trust | negative | positive | \n",
       "|---|\n",
       "| 2  | 8  | 0  | 4  | 4  | 1  | 1  | 14 | 7  | 15 | \n",
       "\n",
       "\n"
      ],
      "text/plain": [
       "  anger anticipation disgust fear joy sadness surprise trust negative positive\n",
       "1 2     8            0       4    4   1       1        14    7        15      "
      ]
     },
     "metadata": {},
     "output_type": "display_data"
    }
   ],
   "source": [
    "get_nrc_sentiment(\"The Official Cash Rate (OCR) will remain unchanged at 7.25 percent.\n",
    "\n",
    "Reserve Bank Governor Alan Bollard said: The economy has continued to slow in recent months, broadly in line with the outlook contained in our December Monetary Policy Statement. \n",
    "GDP growth slowed in the third quarter of 2005, due to the impact of the high exchange rate on the export and import-competing sectors, and a fall in construction. \n",
    "Looking to 2006, while there are some early indications, we are yet to see hard evidence of a sustained slowdown in domestic demand. \n",
    "To date, strong domestic demand has been fuelled by strong employment, wage growth, rising house prices, and growth in Government spending. \n",
    "Overall, total spending continues to outstrip growth in production, contributing to an unsustainably large current account deficit.\n",
    "\n",
    "Over recent years, considerable pressures have built up on resources, leading to the current high level of inflation. \n",
    "While capacity and resource constraints appear now to be easing, inflation pressures remain of concern. \n",
    "Annual CPI inflation stands at 3.2 percent, and our forecasts point to inflation remaining toward the upper end of the target band over the next couple of years. \n",
    "Continuing increases in wages, energy prices and other business costs suggest that inflation pressures will not subside quickly. \n",
    "Of particular concern, inflation expectations remain uncomfortably high.\n",
    "\n",
    "Given this situation, we do not expect to raise the OCR further in this cycle; however, this possibility cannot be ruled out until we see clear evidence of a sustained weakening in domestic demand. \n",
    "Certainly we see no prospect of an OCR easing, given the relatively high medium-term inflation outlook. \n",
    "An early decline in interest rates, as expected by some in the financial markets, would risk reigniting spending and hence inflation pressures.\")\n"
   ]
  },
  {
   "cell_type": "code",
   "execution_count": 6,
   "metadata": {},
   "outputs": [
    {
     "data": {
      "text/html": [
       "<table>\n",
       "<thead><tr><th scope=col>anger</th><th scope=col>anticipation</th><th scope=col>disgust</th><th scope=col>fear</th><th scope=col>joy</th><th scope=col>sadness</th><th scope=col>surprise</th><th scope=col>trust</th><th scope=col>negative</th><th scope=col>positive</th></tr></thead>\n",
       "<tbody>\n",
       "\t<tr><td>1 </td><td>12</td><td>1 </td><td>5 </td><td>3 </td><td>2 </td><td>2 </td><td>17</td><td>8 </td><td>31</td></tr>\n",
       "</tbody>\n",
       "</table>\n"
      ],
      "text/latex": [
       "\\begin{tabular}{r|llllllllll}\n",
       " anger & anticipation & disgust & fear & joy & sadness & surprise & trust & negative & positive\\\\\n",
       "\\hline\n",
       "\t 1  & 12 & 1  & 5  & 3  & 2  & 2  & 17 & 8  & 31\\\\\n",
       "\\end{tabular}\n"
      ],
      "text/markdown": [
       "\n",
       "anger | anticipation | disgust | fear | joy | sadness | surprise | trust | negative | positive | \n",
       "|---|\n",
       "| 1  | 12 | 1  | 5  | 3  | 2  | 2  | 17 | 8  | 31 | \n",
       "\n",
       "\n"
      ],
      "text/plain": [
       "  anger anticipation disgust fear joy sadness surprise trust negative positive\n",
       "1 1     12           1       5    3   2       2        17    8        31      "
      ]
     },
     "metadata": {},
     "output_type": "display_data"
    }
   ],
   "source": [
    "get_nrc_sentiment(\"Information received since the Federal Open Market Committee met in December indicates that growth in economic activity picked up in recent quarters. Labor market indicators were mixed but on balance showed further improvement. The unemployment rate declined but remains elevated. Household spending and business fixed investment advanced more quickly in recent months, while the recovery in the housing sector slowed somewhat. Fiscal policy is restraining economic growth, although the extent of restraint is diminishing. Inflation has been running below the Committee's longer-run objective, but longer-term inflation expectations have remained stable.\n",
    "\n",
    "Consistent with its statutory mandate, the Committee seeks to foster maximum employment and price stability. The Committee expects that, with appropriate policy accommodation, economic activity will expand at a moderate pace and the unemployment rate will gradually decline toward levels the Committee judges consistent with its dual mandate. The Committee sees the risks to the outlook for the economy and the labor market as having become more nearly balanced. The Committee recognizes that inflation persistently below its 2 percent objective could pose risks to economic performance, and it is monitoring inflation developments carefully for evidence that inflation will move back toward its objective over the medium term.\n",
    "\n",
    "Taking into account the extent of federal fiscal retrenchment since the inception of its current asset purchase program, the Committee continues to see the improvement in economic activity and labor market conditions over that period as consistent with growing underlying strength in the broader economy. In light of the cumulative progress toward maximum employment and the improvement in the outlook for labor market conditions, the Committee decided to make a further measured reduction in the pace of its asset purchases. Beginning in February, the Committee will add to its holdings of agency mortgage-backed securities at a pace of $30 billion per month rather than $35 billion per month, and will add to its holdings of longer-term Treasury securities at a pace of $35 billion per month rather than $40 billion per month. The Committee is maintaining its existing policy of reinvesting principal payments from its holdings of agency debt and agency mortgage-backed securities in agency mortgage-backed securities and of rolling over maturing Treasury securities at auction. The Committee's sizable and still-increasing holdings of longer-term securities should maintain downward pressure on longer-term interest rates, support mortgage markets, and help to make broader financial conditions more accommodative, which in turn should promote a stronger economic recovery and help to ensure that inflation, over time, is at the rate most consistent with the Committee's dual mandate.\n",
    "\n",
    "The Committee will closely monitor incoming information on economic and financial developments in coming months and will continue its purchases of Treasury and agency mortgage-backed securities, and employ its other  policy tools as appropriate, until the outlook for the labor market has improved substantially in a context of price stability. If incoming information broadly supports the Committee's expectation of ongoing improvement in labor market conditions and inflation moving back toward its longer-run objective, the Committee will likely reduce the pace of asset purchases in further measured steps at future meetings. However, asset purchases are not on a preset course, and the Committee's decisions about their pace will remain contingent on the Committee's outlook for the labor market and inflation as well as its assessment of the likely efficacy and costs of such purchases.\n",
    "\n",
    "To support continued progress toward maximum employment and price stability, the Committee today reaffirmed its view that a highly accommodative stance of monetary policy will remain appropriate for a considerable time after the asset purchase program ends and the economic recovery strengthens. The Committee also reaffirmed its expectation that the current exceptionally low target range for the federal funds rate of 0 to 1/4 percent will be appropriate at least as long as the unemployment rate remains above 6-1/2 percent, inflation between one and two years ahead is projected to be no more than a half percentage point above the Committee's 2 percent longer-run goal, and longer-term inflation expectations continue to be well anchored. In determining how long to maintain a highly accommodative stance of monetary policy, the Committee will also consider other information, including additional measures of labor market conditions, indicators of inflation pressures and inflation expectations, and readings on financial developments. The Committee continues to anticipate, based on its assessment of these factors, that it likely will be appropriate to maintain the current target range for the federal funds rate well past the time that the unemployment rate declines below 6-1/2 percent, especially if projected inflation continues to run below the Committee's 2 percent longer-run goal. When the Committee decides to begin to remove policy accommodation, it will take a balanced approach consistent with its longer-run goals of maximum employment and inflation of 2 percent.\n",
    "\")"
   ]
  },
  {
   "cell_type": "code",
   "execution_count": null,
   "metadata": {
    "collapsed": true
   },
   "outputs": [],
   "source": []
  }
 ],
 "metadata": {
  "kernelspec": {
   "display_name": "R",
   "language": "R",
   "name": "ir"
  },
  "language_info": {
   "codemirror_mode": "r",
   "file_extension": ".r",
   "mimetype": "text/x-r-source",
   "name": "R",
   "pygments_lexer": "r",
   "version": "3.4.3"
  }
 },
 "nbformat": 4,
 "nbformat_minor": 2
}
