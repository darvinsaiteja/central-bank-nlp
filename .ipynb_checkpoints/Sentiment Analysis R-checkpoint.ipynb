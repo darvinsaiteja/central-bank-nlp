{
 "cells": [
  {
   "cell_type": "code",
   "execution_count": 1,
   "metadata": {},
   "outputs": [],
   "source": [
    "library(syuzhet)"
   ]
  },
  {
   "cell_type": "code",
   "execution_count": 2,
   "metadata": {},
   "outputs": [
    {
     "ename": "ERROR",
     "evalue": "Error in parse(text = x, srcfile = src): <text>:18:0: unexpected end of input\n16: Certainly we see no prospect of an OCR easing, given the relatively high medium-term inflation outlook. \n17: An early decline in interest rates, as expected by some in the financial markets, would risk reigniting spending and hence inflation pressures.)\"\n   ^\n",
     "output_type": "error",
     "traceback": [
      "Error in parse(text = x, srcfile = src): <text>:18:0: unexpected end of input\n16: Certainly we see no prospect of an OCR easing, given the relatively high medium-term inflation outlook. \n17: An early decline in interest rates, as expected by some in the financial markets, would risk reigniting spending and hence inflation pressures.)\"\n   ^\nTraceback:\n"
     ]
    }
   ],
   "source": [
    "get_nrc_sentiment(\"The Official Cash Rate (OCR) will remain unchanged at 7.25 percent.\n",
    "\n",
    "Reserve Bank Governor Alan Bollard said: The economy has continued to slow in recent months, broadly in line with the outlook contained in our December Monetary Policy Statement. \n",
    "GDP growth slowed in the third quarter of 2005, due to the impact of the high exchange rate on the export and import-competing sectors, and a fall in construction. \n",
    "Looking to 2006, while there are some early indications, we are yet to see hard evidence of a sustained slowdown in domestic demand. \n",
    "To date, strong domestic demand has been fuelled by strong employment, wage growth, rising house prices, and growth in Government spending. \n",
    "Overall, total spending continues to outstrip growth in production, contributing to an unsustainably large current account deficit.\n",
    "\n",
    "Over recent years, considerable pressures have built up on resources, leading to the current high level of inflation. \n",
    "While capacity and resource constraints appear now to be easing, inflation pressures remain of concern. \n",
    "Annual CPI inflation stands at 3.2 percent, and our forecasts point to inflation remaining toward the upper end of the target band over the next couple of years. \n",
    "Continuing increases in wages, energy prices and other business costs suggest that inflation pressures will not subside quickly. \n",
    "Of particular concern, inflation expectations remain uncomfortably high.\n",
    "\n",
    "Given this situation, we do not expect to raise the OCR further in this cycle; however, this possibility cannot be ruled out until we see clear evidence of a sustained weakening in domestic demand. \n",
    "Certainly we see no prospect of an OCR easing, given the relatively high medium-term inflation outlook. \n",
    "An early decline in interest rates, as expected by some in the financial markets, would risk reigniting spending and hence inflation pressures.)\"\n"
   ]
  },
  {
   "cell_type": "code",
   "execution_count": null,
   "metadata": {},
   "outputs": [],
   "source": []
  }
 ],
 "metadata": {
  "kernelspec": {
   "display_name": "R",
   "language": "R",
   "name": "ir"
  },
  "language_info": {
   "codemirror_mode": "r",
   "file_extension": ".r",
   "mimetype": "text/x-r-source",
   "name": "R",
   "pygments_lexer": "r",
   "version": "3.4.2"
  }
 },
 "nbformat": 4,
 "nbformat_minor": 2
}
